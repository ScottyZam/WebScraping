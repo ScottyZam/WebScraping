{
  "nbformat": 4,
  "nbformat_minor": 0,
  "metadata": {
    "colab": {
      "provenance": []
    },
    "kernelspec": {
      "name": "python3",
      "display_name": "Python 3"
    },
    "language_info": {
      "name": "python"
    }
  },
  "cells": [
    {
      "cell_type": "code",
      "source": [
        "import pandas as pd\n",
        "import numpy as np\n",
        "from bs4 import BeautifulSoup\n",
        "import requests\n",
        "import re"
      ],
      "metadata": {
        "id": "D0P6G_zqUylU"
      },
      "execution_count": 1,
      "outputs": []
    },
    {
      "cell_type": "code",
      "execution_count": 2,
      "metadata": {
        "id": "WkmbJ1pZUXTw"
      },
      "outputs": [],
      "source": [
        "url = 'https://en.wikipedia.org/wiki/List_of_natural_disasters_in_the_United_States'"
      ]
    },
    {
      "cell_type": "code",
      "source": [
        "r = requests.get(url)"
      ],
      "metadata": {
        "id": "Iito3qmKUdRR"
      },
      "execution_count": 3,
      "outputs": []
    },
    {
      "cell_type": "code",
      "source": [
        "r.status_code"
      ],
      "metadata": {
        "colab": {
          "base_uri": "https://localhost:8080/"
        },
        "id": "4GxQrsXTUfu-",
        "outputId": "d21ec1f1-f4a3-415f-aa4c-8b855f513f42"
      },
      "execution_count": 4,
      "outputs": [
        {
          "output_type": "execute_result",
          "data": {
            "text/plain": [
              "200"
            ]
          },
          "metadata": {},
          "execution_count": 4
        }
      ]
    },
    {
      "cell_type": "code",
      "source": [
        "soup = BeautifulSoup(r.text)"
      ],
      "metadata": {
        "id": "zeqGnQRNUh4C"
      },
      "execution_count": 5,
      "outputs": []
    },
    {
      "cell_type": "code",
      "source": [
        "soup.title.string"
      ],
      "metadata": {
        "colab": {
          "base_uri": "https://localhost:8080/",
          "height": 35
        },
        "id": "55u9u8cHUki6",
        "outputId": "e1eabf11-50b9-40c8-92cd-208d5b186451"
      },
      "execution_count": 6,
      "outputs": [
        {
          "output_type": "execute_result",
          "data": {
            "text/plain": [
              "'List of natural disasters in the United States - Wikipedia'"
            ],
            "application/vnd.google.colaboratory.intrinsic+json": {
              "type": "string"
            }
          },
          "metadata": {},
          "execution_count": 6
        }
      ]
    },
    {
      "cell_type": "code",
      "source": [
        "tt = soup.find_all('table')\n",
        "len(tt)"
      ],
      "metadata": {
        "colab": {
          "base_uri": "https://localhost:8080/"
        },
        "id": "tnuTyKBgUnAW",
        "outputId": "ab8eaa83-dd03-4b4a-a00c-e1dbc99d8faf"
      },
      "execution_count": 7,
      "outputs": [
        {
          "output_type": "execute_result",
          "data": {
            "text/plain": [
              "11"
            ]
          },
          "metadata": {},
          "execution_count": 7
        }
      ]
    },
    {
      "cell_type": "code",
      "source": [
        "tables = pd.read_html(url)\n",
        "df = tables[2]\n",
        "df.head()"
      ],
      "metadata": {
        "colab": {
          "base_uri": "https://localhost:8080/",
          "height": 354
        },
        "id": "e1XkIcuGUq2J",
        "outputId": "8e7e42e2-2fc0-4ad1-8c11-f083adfc365b"
      },
      "execution_count": 8,
      "outputs": [
        {
          "output_type": "execute_result",
          "data": {
            "text/plain": [
              "   Year      Disaster Death toll          Damage costUS$  \\\n",
              "0  2021      Wildfire          2            $2.3 million   \n",
              "1  2021       Tornado         90            $3.9 billion   \n",
              "2  2021     Hurricane        115          $65.25 billion   \n",
              "3  2021  Winter storm        237  ≥ $196.5 billion[6][5]   \n",
              "4  2020      Wildfire         47        ≥$19.884 billion   \n",
              "\n",
              "                                       Main article  \\\n",
              "0                     2021 Kansas wildfire outbreak   \n",
              "1          Tornado outbreak of December 10–11, 2021   \n",
              "2                                     Hurricane Ida   \n",
              "3  February 13–17, 2021 North American winter storm   \n",
              "4        2020 Western United States wildfire season   \n",
              "\n",
              "                                            Location  \\\n",
              "0                                             Kansas   \n",
              "1  Kentucky, Illinois, Tennessee, Missouri, Arkansas   \n",
              "2  United States (especially in Louisiana, New Je...   \n",
              "3  United States (especially in Texas, northern M...   \n",
              "4                              Western United States   \n",
              "\n",
              "                                               Notes  \n",
              "0  On December 15, 2021, a wildfire siege began i...  \n",
              "1  A rare late-season tornado outbreak devastated...  \n",
              "2  After causing widespread destruction along the...  \n",
              "3  While the storm was widespread across the U.S....  \n",
              "4  One of the most destructive wildfire seasons r...  "
            ],
            "text/html": [
              "\n",
              "  <div id=\"df-96989d15-fc0c-4aec-9735-02d44e6cacc6\">\n",
              "    <div class=\"colab-df-container\">\n",
              "      <div>\n",
              "<style scoped>\n",
              "    .dataframe tbody tr th:only-of-type {\n",
              "        vertical-align: middle;\n",
              "    }\n",
              "\n",
              "    .dataframe tbody tr th {\n",
              "        vertical-align: top;\n",
              "    }\n",
              "\n",
              "    .dataframe thead th {\n",
              "        text-align: right;\n",
              "    }\n",
              "</style>\n",
              "<table border=\"1\" class=\"dataframe\">\n",
              "  <thead>\n",
              "    <tr style=\"text-align: right;\">\n",
              "      <th></th>\n",
              "      <th>Year</th>\n",
              "      <th>Disaster</th>\n",
              "      <th>Death toll</th>\n",
              "      <th>Damage costUS$</th>\n",
              "      <th>Main article</th>\n",
              "      <th>Location</th>\n",
              "      <th>Notes</th>\n",
              "    </tr>\n",
              "  </thead>\n",
              "  <tbody>\n",
              "    <tr>\n",
              "      <th>0</th>\n",
              "      <td>2021</td>\n",
              "      <td>Wildfire</td>\n",
              "      <td>2</td>\n",
              "      <td>$2.3 million</td>\n",
              "      <td>2021 Kansas wildfire outbreak</td>\n",
              "      <td>Kansas</td>\n",
              "      <td>On December 15, 2021, a wildfire siege began i...</td>\n",
              "    </tr>\n",
              "    <tr>\n",
              "      <th>1</th>\n",
              "      <td>2021</td>\n",
              "      <td>Tornado</td>\n",
              "      <td>90</td>\n",
              "      <td>$3.9 billion</td>\n",
              "      <td>Tornado outbreak of December 10–11, 2021</td>\n",
              "      <td>Kentucky, Illinois, Tennessee, Missouri, Arkansas</td>\n",
              "      <td>A rare late-season tornado outbreak devastated...</td>\n",
              "    </tr>\n",
              "    <tr>\n",
              "      <th>2</th>\n",
              "      <td>2021</td>\n",
              "      <td>Hurricane</td>\n",
              "      <td>115</td>\n",
              "      <td>$65.25 billion</td>\n",
              "      <td>Hurricane Ida</td>\n",
              "      <td>United States (especially in Louisiana, New Je...</td>\n",
              "      <td>After causing widespread destruction along the...</td>\n",
              "    </tr>\n",
              "    <tr>\n",
              "      <th>3</th>\n",
              "      <td>2021</td>\n",
              "      <td>Winter storm</td>\n",
              "      <td>237</td>\n",
              "      <td>≥ $196.5 billion[6][5]</td>\n",
              "      <td>February 13–17, 2021 North American winter storm</td>\n",
              "      <td>United States (especially in Texas, northern M...</td>\n",
              "      <td>While the storm was widespread across the U.S....</td>\n",
              "    </tr>\n",
              "    <tr>\n",
              "      <th>4</th>\n",
              "      <td>2020</td>\n",
              "      <td>Wildfire</td>\n",
              "      <td>47</td>\n",
              "      <td>≥$19.884 billion</td>\n",
              "      <td>2020 Western United States wildfire season</td>\n",
              "      <td>Western United States</td>\n",
              "      <td>One of the most destructive wildfire seasons r...</td>\n",
              "    </tr>\n",
              "  </tbody>\n",
              "</table>\n",
              "</div>\n",
              "      <button class=\"colab-df-convert\" onclick=\"convertToInteractive('df-96989d15-fc0c-4aec-9735-02d44e6cacc6')\"\n",
              "              title=\"Convert this dataframe to an interactive table.\"\n",
              "              style=\"display:none;\">\n",
              "        \n",
              "  <svg xmlns=\"http://www.w3.org/2000/svg\" height=\"24px\"viewBox=\"0 0 24 24\"\n",
              "       width=\"24px\">\n",
              "    <path d=\"M0 0h24v24H0V0z\" fill=\"none\"/>\n",
              "    <path d=\"M18.56 5.44l.94 2.06.94-2.06 2.06-.94-2.06-.94-.94-2.06-.94 2.06-2.06.94zm-11 1L8.5 8.5l.94-2.06 2.06-.94-2.06-.94L8.5 2.5l-.94 2.06-2.06.94zm10 10l.94 2.06.94-2.06 2.06-.94-2.06-.94-.94-2.06-.94 2.06-2.06.94z\"/><path d=\"M17.41 7.96l-1.37-1.37c-.4-.4-.92-.59-1.43-.59-.52 0-1.04.2-1.43.59L10.3 9.45l-7.72 7.72c-.78.78-.78 2.05 0 2.83L4 21.41c.39.39.9.59 1.41.59.51 0 1.02-.2 1.41-.59l7.78-7.78 2.81-2.81c.8-.78.8-2.07 0-2.86zM5.41 20L4 18.59l7.72-7.72 1.47 1.35L5.41 20z\"/>\n",
              "  </svg>\n",
              "      </button>\n",
              "      \n",
              "  <style>\n",
              "    .colab-df-container {\n",
              "      display:flex;\n",
              "      flex-wrap:wrap;\n",
              "      gap: 12px;\n",
              "    }\n",
              "\n",
              "    .colab-df-convert {\n",
              "      background-color: #E8F0FE;\n",
              "      border: none;\n",
              "      border-radius: 50%;\n",
              "      cursor: pointer;\n",
              "      display: none;\n",
              "      fill: #1967D2;\n",
              "      height: 32px;\n",
              "      padding: 0 0 0 0;\n",
              "      width: 32px;\n",
              "    }\n",
              "\n",
              "    .colab-df-convert:hover {\n",
              "      background-color: #E2EBFA;\n",
              "      box-shadow: 0px 1px 2px rgba(60, 64, 67, 0.3), 0px 1px 3px 1px rgba(60, 64, 67, 0.15);\n",
              "      fill: #174EA6;\n",
              "    }\n",
              "\n",
              "    [theme=dark] .colab-df-convert {\n",
              "      background-color: #3B4455;\n",
              "      fill: #D2E3FC;\n",
              "    }\n",
              "\n",
              "    [theme=dark] .colab-df-convert:hover {\n",
              "      background-color: #434B5C;\n",
              "      box-shadow: 0px 1px 3px 1px rgba(0, 0, 0, 0.15);\n",
              "      filter: drop-shadow(0px 1px 2px rgba(0, 0, 0, 0.3));\n",
              "      fill: #FFFFFF;\n",
              "    }\n",
              "  </style>\n",
              "\n",
              "      <script>\n",
              "        const buttonEl =\n",
              "          document.querySelector('#df-96989d15-fc0c-4aec-9735-02d44e6cacc6 button.colab-df-convert');\n",
              "        buttonEl.style.display =\n",
              "          google.colab.kernel.accessAllowed ? 'block' : 'none';\n",
              "\n",
              "        async function convertToInteractive(key) {\n",
              "          const element = document.querySelector('#df-96989d15-fc0c-4aec-9735-02d44e6cacc6');\n",
              "          const dataTable =\n",
              "            await google.colab.kernel.invokeFunction('convertToInteractive',\n",
              "                                                     [key], {});\n",
              "          if (!dataTable) return;\n",
              "\n",
              "          const docLinkHtml = 'Like what you see? Visit the ' +\n",
              "            '<a target=\"_blank\" href=https://colab.research.google.com/notebooks/data_table.ipynb>data table notebook</a>'\n",
              "            + ' to learn more about interactive tables.';\n",
              "          element.innerHTML = '';\n",
              "          dataTable['output_type'] = 'display_data';\n",
              "          await google.colab.output.renderOutput(dataTable, element);\n",
              "          const docLink = document.createElement('div');\n",
              "          docLink.innerHTML = docLinkHtml;\n",
              "          element.appendChild(docLink);\n",
              "        }\n",
              "      </script>\n",
              "    </div>\n",
              "  </div>\n",
              "  "
            ]
          },
          "metadata": {},
          "execution_count": 8
        }
      ]
    }
  ]
}